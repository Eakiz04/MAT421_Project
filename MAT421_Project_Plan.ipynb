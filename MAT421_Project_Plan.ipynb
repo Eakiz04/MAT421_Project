{
  "nbformat": 4,
  "nbformat_minor": 0,
  "metadata": {
    "colab": {
      "provenance": [],
      "authorship_tag": "ABX9TyMiPorsKuranrWyjdnonRUR",
      "include_colab_link": true
    },
    "kernelspec": {
      "name": "python3",
      "display_name": "Python 3"
    },
    "language_info": {
      "name": "python"
    }
  },
  "cells": [
    {
      "cell_type": "markdown",
      "metadata": {
        "id": "view-in-github",
        "colab_type": "text"
      },
      "source": [
        "<a href=\"https://colab.research.google.com/github/Eakiz04/MAT421_Project/blob/main/MAT421_Project_Plan.ipynb\" target=\"_parent\"><img src=\"https://colab.research.google.com/assets/colab-badge.svg\" alt=\"Open In Colab\"/></a>"
      ]
    },
    {
      "cell_type": "markdown",
      "source": [
        "# Temperature Estimation Using Interpolation\n",
        "\n",
        "By Eric Kizior\n",
        "\n",
        "Date: 3/23/2025\n",
        "\n",
        "---"
      ],
      "metadata": {
        "id": "67irqYzLVk4b"
      }
    },
    {
      "cell_type": "markdown",
      "source": [
        "# Introduction"
      ],
      "metadata": {
        "id": "zyteUcN2Wo0X"
      }
    },
    {
      "cell_type": "markdown",
      "source": [
        "Data collection of temperature often contains missing data due to various factors such as malfunctions with the measuring instrument, data transmission errors, data collection gaps, or simply human error. This missing data can significantly affect the accuracy of weather forecasting and climate models. To correct this missing data, **Lagrange Interpolation**, **Spline Interpolation**, and **Polynomial Regression** can be used to estimate the missing data to create a more accurate representation of the data. This project's goal is to use the interpolation methods and compare their results to the polynomial regression method to analyze and compare the accuracy of each technique."
      ],
      "metadata": {
        "id": "rZkYPXRGuOJg"
      }
    },
    {
      "cell_type": "markdown",
      "source": [
        "# Related Work"
      ],
      "metadata": {
        "id": "ZETcMbTvcOXt"
      }
    },
    {
      "cell_type": "markdown",
      "source": [
        "https://rmets.onlinelibrary.wiley.com/doi/full/10.1002/met.1873\n",
        "\n",
        "https://www.sciencedirect.com/science/article/pii/S1944398624037524\n",
        "\n",
        "<br>\n",
        "\n",
        "Accurate estimation of missing temperature data is a common challenge many researchers attempt to understand better. One study by Afrifa-Yamoah, Mueller, Taylor, and Fisher (2020), examines the frequency of missing data in high-resolution environmental datasets and aims to resolve this issue through methods such as Kalman smoothing, ARIMA, and multiple linear regression. Their findings suggest that multiple linear regression model yielded the most accurate results. While their study focuses on different methods, their method of comparing various techniques aligns with this project's goal of assessing multiple approaches for handling missing temperature data.\n",
        "\n",
        "In a second study by Rafał Jasiński (2016), the author explores the use of cubic spline interpolation and cubic polynomial interpolation to estimate missing data related to air temperature. The study concluded that cubic spline interpolation provides high accuracy, particularly for shorter time intervals. This aligns directly with this project's goal of evaluating the accuracy of spline interpolation for finding missing temperature data. This studies insights will prove useful as a guide for our expected spline interpolation results and provide a framework for analyzing the effectiveness of this method within this project.\n",
        "\n",
        "Overall, both studies assist in understanding how to address missing temperature data in environmental datasets. As these studies demonstrated, the type of method is essential for creating accurate estimations, and this project aims to build on their findings by comparing and analyzing the effectiveness of Lagrange Interpolation, Spline Interpolation, and Polynomial Regression in imputing missing temperature data"
      ],
      "metadata": {
        "id": "0o-hiRXguHf3"
      }
    },
    {
      "cell_type": "markdown",
      "source": [
        "# Proposed methodology / models"
      ],
      "metadata": {
        "id": "M4V_Qhp4uZBo"
      }
    },
    {
      "cell_type": "markdown",
      "source": [
        "https://www.kaggle.com/datasets/joebeachcapital/global-earth-temperatures\n",
        "\n",
        "<br>\n",
        "\n",
        "This project aims to estimate missing temperature data using three key methods: Lagrange Interpolation, Spline Interpolation, and Polynomial Regression. Each of these methods offers a unique approach to handling missing data, and they will be analyzed and compared based on their accuracy in predicting missing temperature values from the Global Earth Temperatures dataset above.\n"
      ],
      "metadata": {
        "id": "mx9WT_KyvIxr"
      }
    },
    {
      "cell_type": "markdown",
      "source": [
        "**1. Lagrange Interpolation**\n",
        "  \n",
        "Lagrange interpolation finds a single polynomial that goes through all the data points. This polynomial is referred to as a Lagrange polynomial. The key advantage of Lagrange interpolation is its flexibility in handling irregularly spaced data points, making it suitable for environmental datasets.\n",
        "\n",
        "$P_i(x)=\\prod_{j=1,j \\ne i}^n\\frac{x-x_j}{x_i-x_j}$\n",
        "\n",
        "$L(x)=\\sum_{i=1}^ny_iP_i(x)$\n",
        "\n",
        "$P_i(x_j)=1$ when $i=j$ and $P_i(x_j)=0$ when $i \\ne j$"
      ],
      "metadata": {
        "id": "Kix6rZOW1COC"
      }
    },
    {
      "cell_type": "markdown",
      "source": [
        "**2. Spline Interpolation**\n",
        "\n",
        "Spline interpolation uses piecewise polynomials to approximate missing data. Unlike Lagrange interpolation, which uses a single polynomial to fit all data points, spline interpolation fits polynomials to small sections of the data. Cubic splines are used where the points $(x_i,y_i)$ and $(x_{i+1},y_{i+1})$ are joined by cubic polynomial $S_i(x)=a_ix^3+b_ix^2+c_ix+d_i$ that is valid for $x_i \\leq x \\leq x_{i+1}$ for i = 1, ... , n-1. This provides a smooth connection, which is crucial when modeling environmental data, as abrupt changes in the data could lead to incorrect predictions\n"
      ],
      "metadata": {
        "id": "EL1Xfc-11DYk"
      }
    },
    {
      "cell_type": "markdown",
      "source": [
        "**3. Polynomial Regression**\n",
        "\n",
        "Polynomial regression uses higher-degree polynomials to fit the data. Polynomial regression can capture non-linear relationships between independent and dependent variables, for this project that is time and temperature respectively.\n",
        "\n",
        "$y= β_0 + β_1x + β_3x^2 + β_4x^3 + ... + β_nx^n$"
      ],
      "metadata": {
        "id": "LfOw8epJ1My2"
      }
    },
    {
      "cell_type": "markdown",
      "source": [
        "# Experiment setups"
      ],
      "metadata": {
        "id": "lXsc6RKI4Vo4"
      }
    },
    {
      "cell_type": "markdown",
      "source": [
        "In this section, the experimental designs for evaluating and comparing the interpolation methods will be detailed."
      ],
      "metadata": {
        "id": "2PK1qGWw4lzT"
      }
    },
    {
      "cell_type": "markdown",
      "source": [
        "**1. Data Base**\n",
        "\n",
        "The Global Earth Temperatures dataset (https://www.kaggle.com/datasets/joebeachcapital/global-earth-temperatures) contains global temperature measurements over several years, but it also includes missing values due to various data collection and transmission errors. If necessary, additional known data points may be removed to simulate varying levels of missing data. This will allow for a more accurate evaluation of how each interpolation method performs with datasets of different levels of completeness."
      ],
      "metadata": {
        "id": "0wT5_Wti5Y74"
      }
    },
    {
      "cell_type": "markdown",
      "source": [
        "**2. Implementation**\n",
        "\n",
        "Lagrange Interpolation, Spline Interpolation, and Polynomial Regression will be applied to find estimated values of missing temperature data points. The results of the interpolation methods will be compared against the polynomial regression model to assess which method provides the most accurate and efficient estimation of missing temperature data"
      ],
      "metadata": {
        "id": "463LwA8b66uB"
      }
    },
    {
      "cell_type": "markdown",
      "source": [
        "**3. Evaluation**\n",
        "\n",
        "The Root Mean Squared Error will be the primary metric used to evaluate the accuracy of each method. For this project, polynomial regression will be used to predict the missing data points, and the interpolation methods will be compared against it. Accuracy will not be the only metric being evaluated, the efficiency of each method will also be compared."
      ],
      "metadata": {
        "id": "sa8ak86e79FB"
      }
    },
    {
      "cell_type": "markdown",
      "source": [
        "# Expected Results"
      ],
      "metadata": {
        "id": "uP5AHbav-9u-"
      }
    },
    {
      "cell_type": "markdown",
      "source": [
        "According to the findings from the related works and our current understanding of the interpolation methods, it is expected that Polynomial Regression will be the most accurate method. This is why it will be used as the benchmark for comparison against the interpolation methods. Of the two interpolation methods, Spline Interpolation is likely to yield the most accurate results, especially for shorter intervals as described by Rafał Jasiński. On the other hand, Lagrange Interpolation may be less accurate due to its reliance on fitting a single polynomial expression to the entire dataset. However, more insights on the pros and cons of each method will be easier to establish after performing the experiment."
      ],
      "metadata": {
        "id": "405Ckw3d_qpe"
      }
    }
  ]
}